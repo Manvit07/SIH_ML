{
 "cells": [
  {
   "cell_type": "code",
   "execution_count": 2,
   "metadata": {},
   "outputs": [],
   "source": [
    "import pandas as pd \n",
    "import array as arr"
   ]
  },
  {
   "cell_type": "code",
   "execution_count": 3,
   "metadata": {},
   "outputs": [],
   "source": [
    "import joblib"
   ]
  },
  {
   "cell_type": "code",
   "execution_count": 4,
   "metadata": {},
   "outputs": [],
   "source": [
    "mj = joblib.load('model_joblib')"
   ]
  },
  {
   "cell_type": "code",
   "execution_count": 8,
   "metadata": {},
   "outputs": [
    {
     "name": "stdout",
     "output_type": "stream",
     "text": [
      "your intrest lies in Editing and visual media\n",
      "your intrest lies in vlogging\n"
     ]
    }
   ],
   "source": [
    "def get_user_input():\n",
    "    \n",
    "    arrays = []\n",
    "    \n",
    "    \n",
    "    num_arrays = 7\n",
    "    \n",
    "    for i in range(num_arrays):\n",
    "       \n",
    "        user_input = input(f\"Enter the values for array {i+1}: \")\n",
    "        \n",
    "        \n",
    "        array = [int(x) for x in user_input.replace(',', ' ').split()]\n",
    "        \n",
    "        \n",
    "       \n",
    "        arrays.append(array)\n",
    "    \n",
    "    return arrays\n",
    "\n",
    "\n",
    "user_input_arrays = get_user_input()\n",
    "output = mj.predict(pd.DataFrame(user_input_arrays, columns=['Q1','Q2','Q3','Q4','Q5']))\n",
    "c1 = \"content creation\"\n",
    "c2 = \"Editing and visual media\"\n",
    "c3 = \"Photography\"\n",
    "c4 = \"vlogging\"\n",
    "c5 = \"Art and design\"\n",
    "c6 = \"esports\"\n",
    "if (output[0] == 1 ):\n",
    "    print(f\"your intrest lies in {c1}\")\n",
    "    if(output[1] == 1):\n",
    "           print(f\"your intrest lies in {c2}\")\n",
    "    elif(output[2] == 1):\n",
    "         print(f\"your intrest lies in {c3}\")\n",
    "    elif(output[3] == 1):\n",
    "        print(f\"your intrest lies in {c4}\")\n",
    "    elif(output[4] == 1):\n",
    "        print(f\"your intrest lies in {c5}\")\n",
    "    elif(output[5] == 1):\n",
    "        print(f\"your intrest lies in {c6}\")\n",
    "elif(output[1] == 1):\n",
    "    print(f\"your intrest lies in {c2}\")\n",
    "    if(output[2] == 1):\n",
    "        print(f\"your intrest lies in {c3}\")\n",
    "    elif(output[3] == 1):\n",
    "            print(f\"your intrest lies in {c4}\")\n",
    "    elif(output[4] == 1):\n",
    "            print(f\"your intrest lies in {c5}\")\n",
    "    elif(output[5] == 1):\n",
    "            print(f\"your intrest lies in {c6}\")\n",
    "    \n",
    "elif(output[2] == 1):\n",
    "    print(f\"your intrest lies in {c3}\")\n",
    "    if(output[3] == 1):\n",
    "        print(f\"your intrest lies in {c4}\")\n",
    "    elif(output[4] == 1):\n",
    "            print(f\"your intrest lies in {c5}\")\n",
    "    elif(output[5] == 1):\n",
    "            print(f\"your intrest lies in {c6}\")\n",
    "elif(output[3] == 1):\n",
    "    print(f\"your intrest lies in {c4}\")\n",
    "    if(output[4] == 1):\n",
    "            print(f\"your intrest lies in {c5}\")\n",
    "    elif(output[5] == 1):\n",
    "            print(f\"your intrest lies in {c6}\")\n",
    "elif(output[4] == 1):\n",
    "    print(f\"your intrest lies in {c5}\")\n",
    "    if(output[5] == 1):\n",
    "            print(f\"your intrest lies in {c6}\")\n",
    "elif(output[5] == 1):\n",
    "    print(f\"your intrest lies in {c6}\")\n",
    "\n",
    "# new_output = output[0:]\n",
    "# if any(new_output== 1):\n",
    "#     a \n",
    "#     print(f\"You have shown interest {} category.\")\n",
    "# else:\n",
    "#     print(\"This category is not suitable for you.\")\n",
    "    \n",
    "      "
   ]
  },
  {
   "cell_type": "code",
   "execution_count": null,
   "metadata": {},
   "outputs": [],
   "source": []
  }
 ],
 "metadata": {
  "kernelspec": {
   "display_name": "Python 3",
   "language": "python",
   "name": "python3"
  },
  "language_info": {
   "codemirror_mode": {
    "name": "ipython",
    "version": 3
   },
   "file_extension": ".py",
   "mimetype": "text/x-python",
   "name": "python",
   "nbconvert_exporter": "python",
   "pygments_lexer": "ipython3",
   "version": "3.12.5"
  }
 },
 "nbformat": 4,
 "nbformat_minor": 2
}
